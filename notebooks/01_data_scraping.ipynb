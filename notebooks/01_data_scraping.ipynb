{
 "cells": [
  {
   "cell_type": "code",
   "execution_count": 31,
   "id": "a1dc5b1b-fedc-43cc-b015-d260fd992228",
   "metadata": {},
   "outputs": [
    {
     "name": "stdout",
     "output_type": "stream",
     "text": [
      "Now working in: /Users/ravish/Documents/Stock-Project\n"
     ]
    }
   ],
   "source": [
    "from pathlib import Path\n",
    "import os\n",
    "\n",
    "# Force Jupyter to work inside your repo\n",
    "os.chdir(\"/Users/ravish/Documents/Stock-Project\")\n",
    "\n",
    "print(\"Now working in:\", Path.cwd())"
   ]
  },
  {
   "cell_type": "code",
   "execution_count": 32,
   "id": "57ec1236-dfab-46cf-aef8-04a6c0da3718",
   "metadata": {},
   "outputs": [
    {
     "name": "stdout",
     "output_type": "stream",
     "text": [
      "Setup OK ✅\n",
      "Python version: 3.11.7\n"
     ]
    }
   ],
   "source": [
    "import sys, pathlib\n",
    "\n",
    "# Make sure our project folders exist\n",
    "pathlib.Path(\"data/raw\").mkdir(parents=True, exist_ok=True)\n",
    "pathlib.Path(\"data/processed\").mkdir(parents=True, exist_ok=True)\n",
    "\n",
    "print(\"Setup OK ✅\")\n",
    "print(\"Python version:\", sys.version.split()[0])"
   ]
  },
  {
   "cell_type": "code",
   "execution_count": 33,
   "id": "b85de1aa-18ac-4d60-9ec4-1d271bb768e7",
   "metadata": {},
   "outputs": [
    {
     "name": "stdout",
     "output_type": "stream",
     "text": [
      "yfinance ready ✅\n"
     ]
    }
   ],
   "source": [
    "# Install yfinance if it's not available already\n",
    "try:\n",
    "    import yfinance as yf\n",
    "except ImportError:\n",
    "    %pip install yfinance\n",
    "    import yfinance as yf\n",
    "\n",
    "print(\"yfinance ready ✅\")"
   ]
  },
  {
   "cell_type": "code",
   "execution_count": 34,
   "id": "49cfe46c-dd3f-4a80-9191-6fc618d92fef",
   "metadata": {},
   "outputs": [
    {
     "name": "stderr",
     "output_type": "stream",
     "text": [
      "[*********************100%***********************]  1 of 1 completed"
     ]
    },
    {
     "name": "stdout",
     "output_type": "stream",
     "text": [
      "Price        Adj Close       Close        High         Low        Open  \\\n",
      "Ticker            AAPL        AAPL        AAPL        AAPL        AAPL   \n",
      "Date                                                                     \n",
      "2024-09-25  225.321335  226.369995  227.289993  224.020004  224.929993   \n",
      "2024-09-26  226.466034  227.520004  228.500000  225.410004  227.300003   \n",
      "2024-09-27  226.734772  227.789993  229.520004  227.300003  228.460007   \n",
      "2024-09-30  231.920639  233.000000  233.000000  229.649994  230.039993   \n",
      "2024-10-01  225.162109  226.210007  229.649994  223.740005  229.520004   \n",
      "\n",
      "Price         Volume  \n",
      "Ticker          AAPL  \n",
      "Date                  \n",
      "2024-09-25  42308700  \n",
      "2024-09-26  36636700  \n",
      "2024-09-27  34026000  \n",
      "2024-09-30  54541900  \n",
      "2024-10-01  63285000  \n"
     ]
    },
    {
     "name": "stderr",
     "output_type": "stream",
     "text": [
      "\n"
     ]
    }
   ],
   "source": [
    "import pandas as pd\n",
    "\n",
    "TICKER = \"AAPL\"\n",
    "PERIOD = \"1y\"   # you can also use \"2y\", \"5y\", etc.\n",
    "\n",
    "# Download OHLCV data\n",
    "df = yf.download(TICKER, period=PERIOD, auto_adjust=False)\n",
    "df.index.name = \"Date\"\n",
    "\n",
    "print(df.head())\n"
   ]
  },
  {
   "cell_type": "code",
   "execution_count": 35,
   "id": "a5b75f8f-3340-44ed-92f7-243a8e37eb61",
   "metadata": {},
   "outputs": [
    {
     "name": "stderr",
     "output_type": "stream",
     "text": [
      "[*********************100%***********************]  1 of 1 completed\n"
     ]
    }
   ],
   "source": [
    "df = yf.download(TICKER, period=PERIOD, auto_adjust=False)"
   ]
  },
  {
   "cell_type": "code",
   "execution_count": 36,
   "id": "81f36a2d-41d3-4a11-b942-bde3f06eaed7",
   "metadata": {},
   "outputs": [
    {
     "name": "stdout",
     "output_type": "stream",
     "text": [
      "Saved 250 rows to data/raw/AAPL_1y.csv\n"
     ]
    }
   ],
   "source": [
    "# Save the data to CSV inside data/raw/\n",
    "from pathlib import Path\n",
    "\n",
    "out_path = Path(\"data/raw\") / f\"{TICKER}_{PERIOD}.csv\"\n",
    "df.to_csv(out_path)\n",
    "print(f\"Saved {len(df)} rows to {out_path}\")\n"
   ]
  },
  {
   "cell_type": "code",
   "execution_count": 37,
   "id": "10c08cc4-eaa8-451d-bbff-d3f36b3a624b",
   "metadata": {},
   "outputs": [
    {
     "name": "stdout",
     "output_type": "stream",
     "text": [
      "Fetching 5 tickers from 2005-09-23 to 2025-09-25\n"
     ]
    }
   ],
   "source": [
    "import datetime as dt\n",
    "from pathlib import Path\n",
    "\n",
    "# ✔️ Edit tickers if you want different ones\n",
    "TICKERS = [\"AAPL\", \"MSFT\", \"AMZN\", \"GOOG\", \"TSLA\"]\n",
    "\n",
    "# 20 years back from today (buffer a few days)\n",
    "END   = dt.date.today()\n",
    "START = END - dt.timedelta(days=365*20 + 7)\n",
    "\n",
    "DATA_RAW = Path(\"data/raw\"); DATA_RAW.mkdir(parents=True, exist_ok=True)\n",
    "\n",
    "print(f\"Fetching {len(TICKERS)} tickers from {START} to {END}\")"
   ]
  },
  {
   "cell_type": "code",
   "execution_count": 38,
   "id": "2a0747a0-0e23-4712-b671-056db38bb31d",
   "metadata": {},
   "outputs": [
    {
     "name": "stdout",
     "output_type": "stream",
     "text": [
      "AAPL: 5,032 rows → data/raw/AAPL_2005-09-23_2025-09-25.csv\n",
      "MSFT: 5,032 rows → data/raw/MSFT_2005-09-23_2025-09-25.csv\n",
      "AMZN: 5,032 rows → data/raw/AMZN_2005-09-23_2025-09-25.csv\n",
      "GOOG: 5,032 rows → data/raw/GOOG_2005-09-23_2025-09-25.csv\n",
      "TSLA: 3,834 rows → data/raw/TSLA_2005-09-23_2025-09-25.csv\n"
     ]
    }
   ],
   "source": [
    "import time\n",
    "import pandas as pd\n",
    "import yfinance as yf\n",
    "\n",
    "def fetch(ticker: str, start, end, tries=3, sleep=2) -> pd.DataFrame:\n",
    "    for i in range(tries):\n",
    "        df = yf.download(\n",
    "            ticker, start=start, end=end,\n",
    "            auto_adjust=False, progress=False, threads=False\n",
    "        )\n",
    "        if isinstance(df, pd.DataFrame) and not df.empty:\n",
    "            df.index.name = \"Date\"\n",
    "            return df\n",
    "        time.sleep(sleep * (i+1))\n",
    "    raise RuntimeError(f\"Failed to download data for {ticker}\")\n",
    "\n",
    "results = []\n",
    "for t in TICKERS:\n",
    "    df = fetch(t, START, END)\n",
    "    out = DATA_RAW / f\"{t}_{START}_{END}.csv\"\n",
    "    df.to_csv(out)\n",
    "    results.append({\n",
    "        \"Ticker\": t,\n",
    "        \"Rows\": len(df),\n",
    "        \"From\": df.index.min().date() if len(df) else None,\n",
    "        \"To\":   df.index.max().date() if len(df) else None,\n",
    "        \"Saved\": out.as_posix()\n",
    "    })\n",
    "    print(f\"{t}: {len(df):,} rows → {out}\")"
   ]
  },
  {
   "cell_type": "code",
   "execution_count": 39,
   "id": "fcf2e8ce-5416-4b38-9925-ad69060ca41b",
   "metadata": {},
   "outputs": [
    {
     "data": {
      "text/html": [
       "<div>\n",
       "<style scoped>\n",
       "    .dataframe tbody tr th:only-of-type {\n",
       "        vertical-align: middle;\n",
       "    }\n",
       "\n",
       "    .dataframe tbody tr th {\n",
       "        vertical-align: top;\n",
       "    }\n",
       "\n",
       "    .dataframe thead th {\n",
       "        text-align: right;\n",
       "    }\n",
       "</style>\n",
       "<table border=\"1\" class=\"dataframe\">\n",
       "  <thead>\n",
       "    <tr style=\"text-align: right;\">\n",
       "      <th></th>\n",
       "      <th>Rows</th>\n",
       "      <th>From</th>\n",
       "      <th>To</th>\n",
       "      <th>Saved</th>\n",
       "    </tr>\n",
       "    <tr>\n",
       "      <th>Ticker</th>\n",
       "      <th></th>\n",
       "      <th></th>\n",
       "      <th></th>\n",
       "      <th></th>\n",
       "    </tr>\n",
       "  </thead>\n",
       "  <tbody>\n",
       "    <tr>\n",
       "      <th>AAPL</th>\n",
       "      <td>5032</td>\n",
       "      <td>2005-09-23</td>\n",
       "      <td>2025-09-24</td>\n",
       "      <td>data/raw/AAPL_2005-09-23_2025-09-25.csv</td>\n",
       "    </tr>\n",
       "    <tr>\n",
       "      <th>AMZN</th>\n",
       "      <td>5032</td>\n",
       "      <td>2005-09-23</td>\n",
       "      <td>2025-09-24</td>\n",
       "      <td>data/raw/AMZN_2005-09-23_2025-09-25.csv</td>\n",
       "    </tr>\n",
       "    <tr>\n",
       "      <th>GOOG</th>\n",
       "      <td>5032</td>\n",
       "      <td>2005-09-23</td>\n",
       "      <td>2025-09-24</td>\n",
       "      <td>data/raw/GOOG_2005-09-23_2025-09-25.csv</td>\n",
       "    </tr>\n",
       "    <tr>\n",
       "      <th>MSFT</th>\n",
       "      <td>5032</td>\n",
       "      <td>2005-09-23</td>\n",
       "      <td>2025-09-24</td>\n",
       "      <td>data/raw/MSFT_2005-09-23_2025-09-25.csv</td>\n",
       "    </tr>\n",
       "    <tr>\n",
       "      <th>TSLA</th>\n",
       "      <td>3834</td>\n",
       "      <td>2010-06-29</td>\n",
       "      <td>2025-09-24</td>\n",
       "      <td>data/raw/TSLA_2005-09-23_2025-09-25.csv</td>\n",
       "    </tr>\n",
       "  </tbody>\n",
       "</table>\n",
       "</div>"
      ],
      "text/plain": [
       "        Rows        From          To                                    Saved\n",
       "Ticker                                                                       \n",
       "AAPL    5032  2005-09-23  2025-09-24  data/raw/AAPL_2005-09-23_2025-09-25.csv\n",
       "AMZN    5032  2005-09-23  2025-09-24  data/raw/AMZN_2005-09-23_2025-09-25.csv\n",
       "GOOG    5032  2005-09-23  2025-09-24  data/raw/GOOG_2005-09-23_2025-09-25.csv\n",
       "MSFT    5032  2005-09-23  2025-09-24  data/raw/MSFT_2005-09-23_2025-09-25.csv\n",
       "TSLA    3834  2010-06-29  2025-09-24  data/raw/TSLA_2005-09-23_2025-09-25.csv"
      ]
     },
     "execution_count": 39,
     "metadata": {},
     "output_type": "execute_result"
    }
   ],
   "source": [
    "summary = pd.DataFrame(results).set_index(\"Ticker\").sort_index()\n",
    "summary"
   ]
  },
  {
   "cell_type": "code",
   "execution_count": 42,
   "id": "f64f86b0-30ce-4f93-9e1b-963d35822788",
   "metadata": {},
   "outputs": [
    {
     "name": "stdout",
     "output_type": "stream",
     "text": [
      "Setup complete ✅ | Raw: data/raw | Processed: data/processed\n"
     ]
    }
   ],
   "source": [
    "# Setup for Notebook 02: Feature Engineering\n",
    "\n",
    "import pandas as pd\n",
    "import numpy as np\n",
    "from pathlib import Path\n",
    "\n",
    "# Folder structure (assumes you're in repo root)\n",
    "DATA_RAW = Path(\"data/raw\")\n",
    "DATA_PROC = Path(\"data/processed\")\n",
    "DATA_PROC.mkdir(parents=True, exist_ok=True)\n",
    "\n",
    "# List of tickers we have data for\n",
    "TICKERS = [\"AAPL\", \"MSFT\", \"AMZN\", \"GOOG\", \"TSLA\"]\n",
    "\n",
    "print(\"Setup complete ✅ | Raw:\", DATA_RAW, \"| Processed:\", DATA_PROC)"
   ]
  },
  {
   "cell_type": "code",
   "execution_count": null,
   "id": "8bb01734-946e-47cc-9d25-680199dc3a57",
   "metadata": {},
   "outputs": [],
   "source": []
  }
 ],
 "metadata": {
  "kernelspec": {
   "display_name": "Python (ds-project)",
   "language": "python",
   "name": "ds-project"
  },
  "language_info": {
   "codemirror_mode": {
    "name": "ipython",
    "version": 3
   },
   "file_extension": ".py",
   "mimetype": "text/x-python",
   "name": "python",
   "nbconvert_exporter": "python",
   "pygments_lexer": "ipython3",
   "version": "3.11.7"
  }
 },
 "nbformat": 4,
 "nbformat_minor": 5
}
