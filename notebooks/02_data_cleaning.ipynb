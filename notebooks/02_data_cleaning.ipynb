{
 "cells": [
  {
   "cell_type": "code",
   "execution_count": 39,
   "id": "bd3e87e7-4135-4c9a-919a-0ee79b74bfe4",
   "metadata": {},
   "outputs": [
    {
     "name": "stdout",
     "output_type": "stream",
     "text": [
      "Saving raw files to: /Users/ravish/Documents/Stock-Project/data/raw\n"
     ]
    }
   ],
   "source": [
    "from pathlib import Path\n",
    "import datetime as dt\n",
    "import yfinance as yf\n",
    "import pandas as pd\n",
    "import os\n",
    "\n",
    "# make sure we’re in repo root\n",
    "os.chdir(\"/Users/ravish/Documents/Stock-Project\")\n",
    "\n",
    "DATA_RAW = Path(\"data/raw\")\n",
    "DATA_RAW.mkdir(parents=True, exist_ok=True)\n",
    "\n",
    "TICKERS = [\"AAPL\", \"MSFT\", \"AMZN\", \"GOOG\", \"TSLA\"]\n",
    "\n",
    "# define date range (20 years)\n",
    "END = dt.date.today()\n",
    "START = END - dt.timedelta(days=365*20 + 7)\n",
    "\n",
    "print(\"Saving raw files to:\", DATA_RAW.resolve())"
   ]
  },
  {
   "cell_type": "code",
   "execution_count": 40,
   "id": "faa8963f-0b82-4f59-b817-17c86eb3a9c4",
   "metadata": {},
   "outputs": [
    {
     "name": "stdout",
     "output_type": "stream",
     "text": [
      "Exists: True\n",
      "Size bytes: 558043\n",
      "First 5 lines:\n",
      " Price,Adj Close,Close,High,Low,Open,Volume\n",
      "Ticker,AAPL,AAPL,AAPL,AAPL,AAPL,AAPL\n",
      "Date,,,,,,\n",
      "2005-09-23,1.5970702171325684,1.899999976158142,1.910714030265808,1.8514289855957031,1.8607139587402344,558457200\n",
      "2005-09-26,1.6162832975387573,1.9228570461273193,1.948570966720581,1.9042860269546509,1.9296430349349976,546562800\n"
     ]
    }
   ],
   "source": [
    "from pathlib import Path\n",
    "\n",
    "p = Path(\"data/raw/AAPL.csv\")\n",
    "print(\"Exists:\", p.exists())\n",
    "print(\"Size bytes:\", p.stat().st_size if p.exists() else \"-\")\n",
    "if p.exists() and p.stat().st_size > 0:\n",
    "    print(\"First 5 lines:\\n\", \"\\n\".join(p.read_text().splitlines()[:5]))"
   ]
  },
  {
   "cell_type": "code",
   "execution_count": 41,
   "id": "e87e9d65-de09-4e88-bc0e-6c799da2510b",
   "metadata": {},
   "outputs": [
    {
     "name": "stdout",
     "output_type": "stream",
     "text": [
      "AAPL: 5032 rows saved → data/raw/AAPL.csv\n",
      "MSFT: 5032 rows saved → data/raw/MSFT.csv\n",
      "AMZN: 5032 rows saved → data/raw/AMZN.csv\n",
      "GOOG: 5032 rows saved → data/raw/GOOG.csv\n",
      "TSLA: 3834 rows saved → data/raw/TSLA.csv\n",
      "✅ All done\n"
     ]
    }
   ],
   "source": [
    "def fetch_and_save(ticker, start, end):\n",
    "    df = yf.download(ticker, start=start, end=end, auto_adjust=False, progress=False)\n",
    "    df.index.name = \"Date\"\n",
    "    out = DATA_RAW / f\"{ticker}.csv\"   # simple filenames!\n",
    "    df.to_csv(out)\n",
    "    print(f\"{ticker}: {len(df)} rows saved → {out}\")\n",
    "    return out\n",
    "\n",
    "for t in TICKERS:\n",
    "    fetch_and_save(t, START, END)\n",
    "\n",
    "print(\"✅ All done\")"
   ]
  },
  {
   "cell_type": "code",
   "execution_count": 51,
   "id": "8ca14bfd-5f24-454c-a48c-b0d176511ae4",
   "metadata": {},
   "outputs": [],
   "source": [
    "def load_raw(ticker: str):\n",
    "    \"\"\"\n",
    "    Loads data/raw/{TICKER}.csv where the file has:\n",
    "      header row: Price, Adj Close, Close, High, Low, Open, Volume\n",
    "      row 0: Ticker, AAPL, AAPL, ...\n",
    "      row 1: Date, , , , , ,\n",
    "      row 2+: real data (first column is the date)\n",
    "    \"\"\"\n",
    "    import pandas as pd\n",
    "    from pathlib import Path\n",
    "\n",
    "    p = DATA_RAW / f\"{ticker}.csv\"\n",
    "    df = pd.read_csv(p)                 # read as-is\n",
    "\n",
    "    # standardize column names\n",
    "    df.columns = df.columns.str.strip()\n",
    "\n",
    "    # first column currently called \"Price\" but contains 'Ticker', 'Date', then dates\n",
    "    first = df.columns[0]\n",
    "\n",
    "    # drop the two metadata rows\n",
    "    df = df[~df[first].isin([\"Ticker\", \"Date\"])].copy()\n",
    "\n",
    "    # rename first col to Date and parse to datetime\n",
    "    df.rename(columns={first: \"Date\"}, inplace=True)\n",
    "    df[\"Date\"] = pd.to_datetime(df[\"Date\"], errors=\"coerce\")\n",
    "    df = df.dropna(subset=[\"Date\"]).set_index(\"Date\").sort_index()\n",
    "\n",
    "    # make numeric columns numeric\n",
    "    for c in df.columns:\n",
    "        df[c] = pd.to_numeric(df[c], errors=\"coerce\")\n",
    "\n",
    "    return df\n",
    "\n",
    "\n",
    "def clean_stock(df: pd.DataFrame) -> pd.DataFrame:\n",
    "    keep = [\"Open\",\"High\",\"Low\",\"Close\",\"Adj Close\",\"Volume\"]\n",
    "    df = df[[c for c in keep if c in df.columns]].copy()\n",
    "    if \"Adj Close\" not in df.columns:\n",
    "        raise KeyError(f\"'Adj Close' not found. Columns are: {list(df.columns)}\")\n",
    "    df = df[~df.index.duplicated(keep=\"first\")].ffill().dropna()\n",
    "    return df\n",
    "\n",
    "def add_basic_features(df: pd.DataFrame) -> pd.DataFrame:\n",
    "    df[\"Return\"] = df[\"Adj Close\"].pct_change()\n",
    "    df[\"CumReturn\"] = (1 + df[\"Return\"]).cumprod()\n",
    "    return df\n",
    "\n",
    "def process_and_save(ticker: str):\n",
    "    raw = load_raw(ticker)\n",
    "    before = raw.shape\n",
    "    df = add_basic_features(clean_stock(raw))\n",
    "    out = DATA_PROC / f\"{ticker}_processed.csv\"\n",
    "    df.to_csv(out)\n",
    "    print(f\"✅ {ticker}: {before} → {df.shape}  saved → {out.name}\")\n",
    "    return ticker, df.shape, out.name\n",
    "\n",
    "\n",
    "def add_basic_features(df: pd.DataFrame) -> pd.DataFrame:\n",
    "    df[\"Return\"] = df[\"Adj Close\"].pct_change()\n",
    "    df[\"CumReturn\"] = (1 + df[\"Return\"]).cumprod()\n",
    "    return df\n"
   ]
  },
  {
   "cell_type": "code",
   "execution_count": 52,
   "id": "8d8f93be-500b-47b8-9d66-607b65edcdbf",
   "metadata": {},
   "outputs": [
    {
     "name": "stdout",
     "output_type": "stream",
     "text": [
      "✅ AAPL: (5032, 6) → (5032, 8)  saved → AAPL_processed.csv\n",
      "✅ MSFT: (5032, 6) → (5032, 8)  saved → MSFT_processed.csv\n",
      "✅ AMZN: (5032, 6) → (5032, 8)  saved → AMZN_processed.csv\n",
      "✅ GOOG: (5032, 6) → (5032, 8)  saved → GOOG_processed.csv\n",
      "✅ TSLA: (3834, 6) → (3834, 8)  saved → TSLA_processed.csv\n"
     ]
    },
    {
     "data": {
      "text/html": [
       "<div>\n",
       "<style scoped>\n",
       "    .dataframe tbody tr th:only-of-type {\n",
       "        vertical-align: middle;\n",
       "    }\n",
       "\n",
       "    .dataframe tbody tr th {\n",
       "        vertical-align: top;\n",
       "    }\n",
       "\n",
       "    .dataframe thead th {\n",
       "        text-align: right;\n",
       "    }\n",
       "</style>\n",
       "<table border=\"1\" class=\"dataframe\">\n",
       "  <thead>\n",
       "    <tr style=\"text-align: right;\">\n",
       "      <th></th>\n",
       "      <th>Ticker</th>\n",
       "      <th>Shape</th>\n",
       "      <th>File</th>\n",
       "    </tr>\n",
       "  </thead>\n",
       "  <tbody>\n",
       "    <tr>\n",
       "      <th>0</th>\n",
       "      <td>AAPL</td>\n",
       "      <td>(5032, 8)</td>\n",
       "      <td>AAPL_processed.csv</td>\n",
       "    </tr>\n",
       "    <tr>\n",
       "      <th>1</th>\n",
       "      <td>MSFT</td>\n",
       "      <td>(5032, 8)</td>\n",
       "      <td>MSFT_processed.csv</td>\n",
       "    </tr>\n",
       "    <tr>\n",
       "      <th>2</th>\n",
       "      <td>AMZN</td>\n",
       "      <td>(5032, 8)</td>\n",
       "      <td>AMZN_processed.csv</td>\n",
       "    </tr>\n",
       "    <tr>\n",
       "      <th>3</th>\n",
       "      <td>GOOG</td>\n",
       "      <td>(5032, 8)</td>\n",
       "      <td>GOOG_processed.csv</td>\n",
       "    </tr>\n",
       "    <tr>\n",
       "      <th>4</th>\n",
       "      <td>TSLA</td>\n",
       "      <td>(3834, 8)</td>\n",
       "      <td>TSLA_processed.csv</td>\n",
       "    </tr>\n",
       "  </tbody>\n",
       "</table>\n",
       "</div>"
      ],
      "text/plain": [
       "  Ticker      Shape                File\n",
       "0   AAPL  (5032, 8)  AAPL_processed.csv\n",
       "1   MSFT  (5032, 8)  MSFT_processed.csv\n",
       "2   AMZN  (5032, 8)  AMZN_processed.csv\n",
       "3   GOOG  (5032, 8)  GOOG_processed.csv\n",
       "4   TSLA  (3834, 8)  TSLA_processed.csv"
      ]
     },
     "execution_count": 52,
     "metadata": {},
     "output_type": "execute_result"
    }
   ],
   "source": [
    "summary = []\n",
    "for t in TICKERS:\n",
    "    try:\n",
    "        summary.append(process_and_save(t))\n",
    "    except Exception as e:\n",
    "        try:\n",
    "            cols = list(load_raw(t).columns)\n",
    "        except Exception:\n",
    "            cols = \"could not load\"\n",
    "        print(f\"❌ {t} failed: {e}\\n   Columns detected: {cols}\")\n",
    "\n",
    "import pandas as pd\n",
    "pd.DataFrame(summary, columns=[\"Ticker\",\"Shape\",\"File\"])"
   ]
  },
  {
   "cell_type": "code",
   "execution_count": null,
   "id": "fde3c8f3-0546-4092-b654-1e02822963fb",
   "metadata": {},
   "outputs": [],
   "source": []
  }
 ],
 "metadata": {
  "kernelspec": {
   "display_name": "Python (ds-project)",
   "language": "python",
   "name": "ds-project"
  },
  "language_info": {
   "codemirror_mode": {
    "name": "ipython",
    "version": 3
   },
   "file_extension": ".py",
   "mimetype": "text/x-python",
   "name": "python",
   "nbconvert_exporter": "python",
   "pygments_lexer": "ipython3",
   "version": "3.11.7"
  }
 },
 "nbformat": 4,
 "nbformat_minor": 5
}
